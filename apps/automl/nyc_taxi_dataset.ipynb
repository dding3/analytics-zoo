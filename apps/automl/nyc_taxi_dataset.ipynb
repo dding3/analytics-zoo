{
 "cells": [
  {
   "cell_type": "markdown",
   "metadata": {},
   "source": [
    "# Automated ML for time series predicion"
   ]
  },
  {
   "cell_type": "markdown",
   "metadata": {},
   "source": [
    "We used one of the dataset in [Numenta Anomaly Benchmark (NAB)](https://github.com/numenta/NAB) for demo, i.e. NYC taxi passengers dataset, which contains 10320 records, each indicating the total number of taxi passengers in NYC at a corresonponding time spot. "
   ]
  },
  {
   "cell_type": "code",
   "execution_count": 1,
   "metadata": {},
   "outputs": [],
   "source": [
    "%load_ext autoreload\n",
    "%autoreload 2"
   ]
  },
  {
   "cell_type": "markdown",
   "metadata": {},
   "source": [
    "## 0. Helper function definations"
   ]
  },
  {
   "cell_type": "code",
   "execution_count": 2,
   "metadata": {},
   "outputs": [],
   "source": [
    "# plot the predicted values and actual values (for the test data)\n",
    "def plot_result(test_df, pred_df, dt_col=\"timestamp\", value_col=\"value\", past_seq_len=1):\n",
    "    # target column of dataframe is \"value\"\n",
    "    # default past sequence length is 1\n",
    "    pred_value = pred_df[value_col].values\n",
    "    true_value = test_df[value_col].values[past_seq_len:]\n",
    "    fig, axs = plt.subplots(figsize=(12, 5))\n",
    "\n",
    "    axs.plot(pred_df[dt_col], pred_value, color='red', label='predicted values')\n",
    "    axs.plot(test_df[dt_col][past_seq_len:], true_value, color='blue', label='actual values')\n",
    "    axs.set_title('the predicted values and actual values (for the test data)')\n",
    "\n",
    "    plt.xlabel(dt_col)\n",
    "    plt.xticks(rotation=45)\n",
    "    plt.ylabel('number of taxi passengers')\n",
    "    plt.legend(loc='upper left')\n",
    "    plt.show()"
   ]
  },
  {
   "cell_type": "code",
   "execution_count": 3,
   "metadata": {},
   "outputs": [],
   "source": [
    "# plot results of multi step forecasting\n",
    "# plot at most five values for better view\n",
    "# plot the predicted values and actual values (for the test data)\n",
    "def plot_less_five_step_result(test_df, pred_df, dt_col=\"timestamp\", value_col=\"value\", past_seq_len=1):\n",
    "    fig, axs = plt.subplots(figsize=(12, 5))\n",
    "    target_value = test_df[value_col].values[past_seq_len:]\n",
    "    axs.plot(test_df[dt_col][past_seq_len:], target_value, color='blue', label='actual values')\n",
    "\n",
    "    value_cols=[\"{}_{}\".format(value_col, i) for i in range(min(pred_df.shape[1] - 1, 5))]\n",
    "    time_delta = pred_df[dt_col][1] - pred_df[dt_col][0]\n",
    "    plot_color = [\"g\", \"r\", \"c\", \"m\", \"y\"]\n",
    "    for i in range(len(value_cols)):\n",
    "        pred_value = pred_df[value_cols[i]].values\n",
    "        pred_dt = pred_df[dt_col].values + time_delta * i\n",
    "        axs.plot(pred_dt, pred_value, color=plot_color[i], label='predicted values' + str(i))\n",
    "\n",
    "    axs.set_title('the predicted values and actual values (for the test data)')\n",
    "\n",
    "    plt.xlabel(dt_col)\n",
    "    plt.xticks(rotation=45)\n",
    "    plt.ylabel('number of taxi passengers')\n",
    "    plt.legend(loc='upper left')\n",
    "    plt.show()"
   ]
  },
  {
   "cell_type": "code",
   "execution_count": 4,
   "metadata": {},
   "outputs": [],
   "source": [
    "# plot results of multi step forecasting\n",
    "# plot result of multi step forecasting\n",
    "# plot the predicted values and actual values (for the test data)\n",
    "def plot_first_last_step_result(test_df, pred_df, dt_col=\"timestamp\", value_col=\"value\", past_seq_len=1):\n",
    "    fig, axs = plt.subplots(figsize=(12, 5))\n",
    "    target_value = test_df[value_col].values[past_seq_len:]\n",
    "    axs.plot(test_df[dt_col][past_seq_len:], target_value, color='blue', label='actual values')\n",
    "\n",
    "    value_cols=[\"{}_{}\".format(value_col, i) for i in range(pred_df.shape[1] - 1)]\n",
    "    time_delta = pred_df[dt_col][1] - pred_df[dt_col][0]\n",
    "  \n",
    "    pred_value_first = pred_df[value_cols[0]].values\n",
    "    pred_dt_first = pred_df[dt_col].values\n",
    "    axs.plot(pred_dt_first, pred_value_first, color=\"g\", label='first predicted values')\n",
    " \n",
    "    pred_value_last = pred_df[value_cols[-1]].values\n",
    "    pred_dt_last = pred_df[dt_col].values + time_delta * (len(value_cols)-1)\n",
    "    axs.plot(pred_dt_last, pred_value_last, color=\"r\", label='last predicted values')\n",
    "\n",
    "    axs.set_title('the predicted values and actual values (for the test data)')\n",
    "\n",
    "    plt.xlabel(dt_col)\n",
    "    plt.xticks(rotation=45)\n",
    "    plt.ylabel('number of taxi passengers')\n",
    "    plt.legend(loc='upper left')\n",
    "    plt.show()"
   ]
  },
  {
   "cell_type": "markdown",
   "metadata": {},
   "source": [
    "## 1. load data"
   ]
  },
  {
   "cell_type": "code",
   "execution_count": 5,
   "metadata": {},
   "outputs": [
    {
     "name": "stdout",
     "output_type": "stream",
     "text": [
      "Populating the interactive namespace from numpy and matplotlib\n"
     ]
    }
   ],
   "source": [
    "import os\n",
    "import pandas as pd\n",
    "import numpy as np\n",
    "\n",
    "import matplotlib\n",
    "matplotlib.use('Agg')\n",
    "%pylab inline\n",
    "import matplotlib.dates as md\n",
    "from matplotlib import pyplot as plt"
   ]
  },
  {
   "cell_type": "markdown",
   "metadata": {},
   "source": [
    "Now we download the dataset and load it into a pandas dataframe.\n",
    "Run the script `$ANALYTICS_ZOO_HOME/dist/bin/data/NAB/nyc_taxi/get_nyc_taxi.sh` to download the raw data"
   ]
  },
  {
   "cell_type": "code",
   "execution_count": 6,
   "metadata": {},
   "outputs": [],
   "source": [
    "# load nyc taxi data\n",
    "try:\n",
    "    dataset_path = os.getenv(\"ANALYTICS_ZOO_HOME\")+\"/bin/data/NAB/nyc_taxi/nyc_taxi.csv\"\n",
    "    raw_df = pd.read_csv(dataset_path)\n",
    "except Exception as e:\n",
    "    print(\"nyc_taxi.csv doesn't exist\")\n",
    "    print(\"you can run $ANALYTICS_ZOO_HOME/bin/data/NAB/nyc_taxi/get_nyc_taxi.sh to download nyc_taxi.csv\")"
   ]
  },
  {
   "cell_type": "markdown",
   "metadata": {},
   "source": [
    "Below are some example records of the data"
   ]
  },
  {
   "cell_type": "code",
   "execution_count": 7,
   "metadata": {},
   "outputs": [
    {
     "data": {
      "text/html": [
       "<div>\n",
       "<style scoped>\n",
       "    .dataframe tbody tr th:only-of-type {\n",
       "        vertical-align: middle;\n",
       "    }\n",
       "\n",
       "    .dataframe tbody tr th {\n",
       "        vertical-align: top;\n",
       "    }\n",
       "\n",
       "    .dataframe thead th {\n",
       "        text-align: right;\n",
       "    }\n",
       "</style>\n",
       "<table border=\"1\" class=\"dataframe\">\n",
       "  <thead>\n",
       "    <tr style=\"text-align: right;\">\n",
       "      <th></th>\n",
       "      <th>timestamp</th>\n",
       "      <th>value</th>\n",
       "    </tr>\n",
       "  </thead>\n",
       "  <tbody>\n",
       "    <tr>\n",
       "      <th>0</th>\n",
       "      <td>2014-07-01 00:00:00</td>\n",
       "      <td>10844</td>\n",
       "    </tr>\n",
       "    <tr>\n",
       "      <th>1</th>\n",
       "      <td>2014-07-01 00:30:00</td>\n",
       "      <td>8127</td>\n",
       "    </tr>\n",
       "    <tr>\n",
       "      <th>2</th>\n",
       "      <td>2014-07-01 01:00:00</td>\n",
       "      <td>6210</td>\n",
       "    </tr>\n",
       "    <tr>\n",
       "      <th>3</th>\n",
       "      <td>2014-07-01 01:30:00</td>\n",
       "      <td>4656</td>\n",
       "    </tr>\n",
       "    <tr>\n",
       "      <th>4</th>\n",
       "      <td>2014-07-01 02:00:00</td>\n",
       "      <td>3820</td>\n",
       "    </tr>\n",
       "  </tbody>\n",
       "</table>\n",
       "</div>"
      ],
      "text/plain": [
       "             timestamp  value\n",
       "0  2014-07-01 00:00:00  10844\n",
       "1  2014-07-01 00:30:00   8127\n",
       "2  2014-07-01 01:00:00   6210\n",
       "3  2014-07-01 01:30:00   4656\n",
       "4  2014-07-01 02:00:00   3820"
      ]
     },
     "execution_count": 7,
     "metadata": {},
     "output_type": "execute_result"
    }
   ],
   "source": [
    "raw_df.head(5)"
   ]
  },
  {
   "cell_type": "markdown",
   "metadata": {},
   "source": [
    "Convert string timestamp to TimeStamp"
   ]
  },
  {
   "cell_type": "code",
   "execution_count": 8,
   "metadata": {},
   "outputs": [
    {
     "data": {
      "text/html": [
       "<div>\n",
       "<style scoped>\n",
       "    .dataframe tbody tr th:only-of-type {\n",
       "        vertical-align: middle;\n",
       "    }\n",
       "\n",
       "    .dataframe tbody tr th {\n",
       "        vertical-align: top;\n",
       "    }\n",
       "\n",
       "    .dataframe thead th {\n",
       "        text-align: right;\n",
       "    }\n",
       "</style>\n",
       "<table border=\"1\" class=\"dataframe\">\n",
       "  <thead>\n",
       "    <tr style=\"text-align: right;\">\n",
       "      <th></th>\n",
       "      <th>timestamp</th>\n",
       "      <th>value</th>\n",
       "    </tr>\n",
       "  </thead>\n",
       "  <tbody>\n",
       "    <tr>\n",
       "      <th>0</th>\n",
       "      <td>2014-07-01 00:00:00</td>\n",
       "      <td>10844</td>\n",
       "    </tr>\n",
       "    <tr>\n",
       "      <th>1</th>\n",
       "      <td>2014-07-01 00:30:00</td>\n",
       "      <td>8127</td>\n",
       "    </tr>\n",
       "    <tr>\n",
       "      <th>2</th>\n",
       "      <td>2014-07-01 01:00:00</td>\n",
       "      <td>6210</td>\n",
       "    </tr>\n",
       "    <tr>\n",
       "      <th>3</th>\n",
       "      <td>2014-07-01 01:30:00</td>\n",
       "      <td>4656</td>\n",
       "    </tr>\n",
       "    <tr>\n",
       "      <th>4</th>\n",
       "      <td>2014-07-01 02:00:00</td>\n",
       "      <td>3820</td>\n",
       "    </tr>\n",
       "  </tbody>\n",
       "</table>\n",
       "</div>"
      ],
      "text/plain": [
       "            timestamp  value\n",
       "0 2014-07-01 00:00:00  10844\n",
       "1 2014-07-01 00:30:00   8127\n",
       "2 2014-07-01 01:00:00   6210\n",
       "3 2014-07-01 01:30:00   4656\n",
       "4 2014-07-01 02:00:00   3820"
      ]
     },
     "execution_count": 8,
     "metadata": {},
     "output_type": "execute_result"
    }
   ],
   "source": [
    "df = pd.DataFrame(pd.to_datetime(raw_df.timestamp))\n",
    "df[\"value\"] = raw_df[\"value\"]\n",
    "df.head()"
   ]
  },
  {
   "cell_type": "markdown",
   "metadata": {},
   "source": [
    "You can use train_val_test_split to split the whole dataset into train/val/test sets. There will be two columns in the output dataframe: \"timestamp\" and \"value\", where the data type of \"timestamp\" column is datetime64."
   ]
  },
  {
   "cell_type": "code",
   "execution_count": 9,
   "metadata": {},
   "outputs": [],
   "source": [
    "from zoo.automl.common.util import train_val_test_split\n",
    "train_df, val_df, test_df = train_val_test_split(df, val_ratio=0.1, test_ratio=0.1)"
   ]
  },
  {
   "cell_type": "code",
   "execution_count": 10,
   "metadata": {},
   "outputs": [
    {
     "data": {
      "text/html": [
       "<div>\n",
       "<style scoped>\n",
       "    .dataframe tbody tr th:only-of-type {\n",
       "        vertical-align: middle;\n",
       "    }\n",
       "\n",
       "    .dataframe tbody tr th {\n",
       "        vertical-align: top;\n",
       "    }\n",
       "\n",
       "    .dataframe thead th {\n",
       "        text-align: right;\n",
       "    }\n",
       "</style>\n",
       "<table border=\"1\" class=\"dataframe\">\n",
       "  <thead>\n",
       "    <tr style=\"text-align: right;\">\n",
       "      <th></th>\n",
       "      <th>value</th>\n",
       "    </tr>\n",
       "  </thead>\n",
       "  <tbody>\n",
       "    <tr>\n",
       "      <th>count</th>\n",
       "      <td>8256.000000</td>\n",
       "    </tr>\n",
       "    <tr>\n",
       "      <th>mean</th>\n",
       "      <td>15421.585514</td>\n",
       "    </tr>\n",
       "    <tr>\n",
       "      <th>std</th>\n",
       "      <td>6871.989592</td>\n",
       "    </tr>\n",
       "    <tr>\n",
       "      <th>min</th>\n",
       "      <td>1431.000000</td>\n",
       "    </tr>\n",
       "    <tr>\n",
       "      <th>25%</th>\n",
       "      <td>11040.000000</td>\n",
       "    </tr>\n",
       "    <tr>\n",
       "      <th>50%</th>\n",
       "      <td>17014.500000</td>\n",
       "    </tr>\n",
       "    <tr>\n",
       "      <th>75%</th>\n",
       "      <td>20032.250000</td>\n",
       "    </tr>\n",
       "    <tr>\n",
       "      <th>max</th>\n",
       "      <td>39197.000000</td>\n",
       "    </tr>\n",
       "  </tbody>\n",
       "</table>\n",
       "</div>"
      ],
      "text/plain": [
       "              value\n",
       "count   8256.000000\n",
       "mean   15421.585514\n",
       "std     6871.989592\n",
       "min     1431.000000\n",
       "25%    11040.000000\n",
       "50%    17014.500000\n",
       "75%    20032.250000\n",
       "max    39197.000000"
      ]
     },
     "execution_count": 10,
     "metadata": {},
     "output_type": "execute_result"
    }
   ],
   "source": [
    "train_df.describe()"
   ]
  },
  {
   "cell_type": "code",
   "execution_count": 11,
   "metadata": {},
   "outputs": [
    {
     "data": {
      "text/html": [
       "<div>\n",
       "<style scoped>\n",
       "    .dataframe tbody tr th:only-of-type {\n",
       "        vertical-align: middle;\n",
       "    }\n",
       "\n",
       "    .dataframe tbody tr th {\n",
       "        vertical-align: top;\n",
       "    }\n",
       "\n",
       "    .dataframe thead th {\n",
       "        text-align: right;\n",
       "    }\n",
       "</style>\n",
       "<table border=\"1\" class=\"dataframe\">\n",
       "  <thead>\n",
       "    <tr style=\"text-align: right;\">\n",
       "      <th></th>\n",
       "      <th>timestamp</th>\n",
       "      <th>value</th>\n",
       "    </tr>\n",
       "  </thead>\n",
       "  <tbody>\n",
       "    <tr>\n",
       "      <th>0</th>\n",
       "      <td>2014-07-01 00:00:00</td>\n",
       "      <td>10844</td>\n",
       "    </tr>\n",
       "    <tr>\n",
       "      <th>1</th>\n",
       "      <td>2014-07-01 00:30:00</td>\n",
       "      <td>8127</td>\n",
       "    </tr>\n",
       "    <tr>\n",
       "      <th>2</th>\n",
       "      <td>2014-07-01 01:00:00</td>\n",
       "      <td>6210</td>\n",
       "    </tr>\n",
       "    <tr>\n",
       "      <th>3</th>\n",
       "      <td>2014-07-01 01:30:00</td>\n",
       "      <td>4656</td>\n",
       "    </tr>\n",
       "    <tr>\n",
       "      <th>4</th>\n",
       "      <td>2014-07-01 02:00:00</td>\n",
       "      <td>3820</td>\n",
       "    </tr>\n",
       "  </tbody>\n",
       "</table>\n",
       "</div>"
      ],
      "text/plain": [
       "            timestamp  value\n",
       "0 2014-07-01 00:00:00  10844\n",
       "1 2014-07-01 00:30:00   8127\n",
       "2 2014-07-01 01:00:00   6210\n",
       "3 2014-07-01 01:30:00   4656\n",
       "4 2014-07-01 02:00:00   3820"
      ]
     },
     "execution_count": 11,
     "metadata": {},
     "output_type": "execute_result"
    }
   ],
   "source": [
    "train_df.head()"
   ]
  },
  {
   "cell_type": "code",
   "execution_count": 12,
   "metadata": {},
   "outputs": [
    {
     "data": {
      "text/html": [
       "<div>\n",
       "<style scoped>\n",
       "    .dataframe tbody tr th:only-of-type {\n",
       "        vertical-align: middle;\n",
       "    }\n",
       "\n",
       "    .dataframe tbody tr th {\n",
       "        vertical-align: top;\n",
       "    }\n",
       "\n",
       "    .dataframe thead th {\n",
       "        text-align: right;\n",
       "    }\n",
       "</style>\n",
       "<table border=\"1\" class=\"dataframe\">\n",
       "  <thead>\n",
       "    <tr style=\"text-align: right;\">\n",
       "      <th></th>\n",
       "      <th>timestamp</th>\n",
       "      <th>value</th>\n",
       "    </tr>\n",
       "  </thead>\n",
       "  <tbody>\n",
       "    <tr>\n",
       "      <th>8251</th>\n",
       "      <td>2014-12-19 21:30:00</td>\n",
       "      <td>26403</td>\n",
       "    </tr>\n",
       "    <tr>\n",
       "      <th>8252</th>\n",
       "      <td>2014-12-19 22:00:00</td>\n",
       "      <td>26905</td>\n",
       "    </tr>\n",
       "    <tr>\n",
       "      <th>8253</th>\n",
       "      <td>2014-12-19 22:30:00</td>\n",
       "      <td>26723</td>\n",
       "    </tr>\n",
       "    <tr>\n",
       "      <th>8254</th>\n",
       "      <td>2014-12-19 23:00:00</td>\n",
       "      <td>25807</td>\n",
       "    </tr>\n",
       "    <tr>\n",
       "      <th>8255</th>\n",
       "      <td>2014-12-19 23:30:00</td>\n",
       "      <td>26432</td>\n",
       "    </tr>\n",
       "  </tbody>\n",
       "</table>\n",
       "</div>"
      ],
      "text/plain": [
       "               timestamp  value\n",
       "8251 2014-12-19 21:30:00  26403\n",
       "8252 2014-12-19 22:00:00  26905\n",
       "8253 2014-12-19 22:30:00  26723\n",
       "8254 2014-12-19 23:00:00  25807\n",
       "8255 2014-12-19 23:30:00  26432"
      ]
     },
     "execution_count": 12,
     "metadata": {},
     "output_type": "execute_result"
    }
   ],
   "source": [
    "train_df.tail()"
   ]
  },
  {
   "cell_type": "code",
   "execution_count": 13,
   "metadata": {},
   "outputs": [
    {
     "name": "stdout",
     "output_type": "stream",
     "text": [
      "The shape of train_df is (8256, 2)\n",
      "The shape of val_df is (1032, 2)\n",
      "The shape of test_df is (1032, 2)\n"
     ]
    }
   ],
   "source": [
    "# shape of the dataframe\n",
    "print(\"The shape of train_df is\", train_df.shape)\n",
    "print(\"The shape of val_df is\", val_df.shape)\n",
    "print(\"The shape of test_df is\", test_df.shape)"
   ]
  },
  {
   "cell_type": "code",
   "execution_count": 14,
   "metadata": {},
   "outputs": [
    {
     "name": "stderr",
     "output_type": "stream",
     "text": [
      "No handles with labels found to put in legend.\n"
     ]
    },
    {
     "data": {
      "image/png": "[encoded data removed]",
      "text/plain": [
       "<Figure size 864x360 with 1 Axes>"
      ]
     },
     "metadata": {
      "needs_background": "light"
     },
     "output_type": "display_data"
    }
   ],
   "source": [
    "# visualisation of anomaly throughout time in train_df\n",
    "from pandas.plotting import register_matplotlib_converters\n",
    "register_matplotlib_converters()\n",
    "\n",
    "fig, ax = plt.subplots(figsize=(12, 5))\n",
    "# pd.plotting.deregister_matplotlib_converters()\n",
    "\n",
    "ax.plot(train_df['timestamp'], train_df['value'], color='blue', linewidth=0.6)\n",
    "ax.set_title('NYC taxi passengers throughout time')\n",
    "\n",
    "plt.xlabel('timestamp')\n",
    "plt.xticks(rotation=45) \n",
    "plt.ylabel('The Number of NYC taxi passengers')\n",
    "plt.legend(loc='upper left')\n",
    "plt.show()"
   ]
  },
  {
   "cell_type": "markdown",
   "metadata": {},
   "source": [
    "## 2. Train and validation"
   ]
  },
  {
   "cell_type": "markdown",
   "metadata": {},
   "source": [
    "You can use analytices zoo automl to predict time series data by simply define a `TimeSequencePredictor`. \n",
    "\n",
    "We use feature tools to generate features from the given datetime. The generated features are \\['HOUR', 'DAY', 'MONTH'. 'IS_AWAKE', 'IS_BUSY_HOURS'\\]. Our feature space comprises these generated features as well as the original inputs such as \\['datetime','value','extra_features'\\].  \n",
    "\n",
    "Currently, We use RNN to learn from 50 previous values, and predict just the 1 next value. You can specify the sequence length to predict while creating `TimeSequencePredictor` with arg: `future_seq_len`."
   ]
  },
  {
   "cell_type": "code",
   "execution_count": 15,
   "metadata": {},
   "outputs": [],
   "source": [
    "# build time sequence predictor\n",
    "from zoo.automl.regression.time_sequence_predictor import *\n",
    "\n",
    "# you need to specify the name of datetime column and target column\n",
    "# The default names are \"timestamp\" and \"value\" respectively.\n",
    "tsp = TimeSequencePredictor(name=\"nyc_taxi_1next\",\n",
    "                            logs_dir=\"~/zoo_automl_logs\",\n",
    "                            dt_col=\"timestamp\",\n",
    "                            target_col=\"value\",\n",
    "                            extra_features_col=None)"
   ]
  },
  {
   "cell_type": "code",
   "execution_count": 17,
   "metadata": {},
   "outputs": [
    {
     "name": "stdout",
     "output_type": "stream",
     "text": [
      "Current pyspark location is : /home/ding/Downloads/spark-2.4.3-bin-hadoop2.7/python/pyspark/__init__.py\n",
      "Start to getOrCreate SparkContext\n"
     ]
    },
    {
     "name": "stderr",
     "output_type": "stream",
     "text": [
      "2020-12-04 14:22:37,604\tINFO resource_spec.py:212 -- Starting Ray with 19.34 GiB memory available for workers and up to 0.93 GiB for objects. You can adjust these settings with ray.init(memory=<bytes>, object_store_memory=<bytes>).\n"
     ]
    },
    {
     "name": "stdout",
     "output_type": "stream",
     "text": [
      "Successfully got a SparkContext\n"
     ]
    },
    {
     "name": "stderr",
     "output_type": "stream",
     "text": [
      "2020-12-04 14:22:37,975\tINFO services.py:1148 -- View the Ray dashboard at \u001b[1m\u001b[32mlocalhost:8266\u001b[39m\u001b[22m\n"
     ]
    },
    {
     "name": "stdout",
     "output_type": "stream",
     "text": [
      "{'node_ip_address': '10.241.98.64', 'redis_address': '10.241.98.64:48628', 'object_store_address': '/tmp/ray/session_2020-12-04_14-22-37_603180_14340/sockets/plasma_store', 'raylet_socket_name': '/tmp/ray/session_2020-12-04_14-22-37_603180_14340/sockets/raylet', 'webui_url': 'localhost:8266', 'session_dir': '/tmp/ray/session_2020-12-04_14-22-37_603180_14340'}\n"
     ]
    },
    {
     "data": {
      "text/plain": [
       "{'node_ip_address': '10.241.98.64',\n",
       " 'redis_address': '10.241.98.64:48628',\n",
       " 'object_store_address': '/tmp/ray/session_2020-12-04_14-22-37_603180_14340/sockets/plasma_store',\n",
       " 'raylet_socket_name': '/tmp/ray/session_2020-12-04_14-22-37_603180_14340/sockets/raylet',\n",
       " 'webui_url': 'localhost:8266',\n",
       " 'session_dir': '/tmp/ray/session_2020-12-04_14-22-37_603180_14340'}"
      ]
     },
     "execution_count": 17,
     "metadata": {},
     "output_type": "execute_result"
    }
   ],
   "source": [
    "from zoo import init_spark_on_local\n",
    "from zoo.ray import RayContext\n",
    "sc = SparkContext.getOrCreate()\n",
    "sc.stop()\n",
    "\n",
    "sc = init_spark_on_local(cores=4)\n",
    "ray_ctx = RayContext(sc=sc, object_store_memory=\"1g\")\n",
    "ray_ctx.init()"
   ]
  },
  {
   "cell_type": "code",
   "execution_count": 18,
   "metadata": {
    "scrolled": true
   },
   "outputs": [
    {
     "data": {
      "text/html": [
       "== Status ==<br>Memory usage on this node: 11.1/31.3 GiB<br>Using FIFO scheduling algorithm.<br>Resources requested: 0/4 CPUs, 0/0 GPUs, 0.0/19.34 GiB heap, 0.0/0.63 GiB objects<br>Result logdir: /home/ding/zoo_automl_logs/nyc_taxi_1next<br>Number of trials: 3 (3 TERMINATED)<br><table>\n",
       "<thead>\n",
       "<tr><th>Trial name      </th><th>status    </th><th>loc  </th><th style=\"text-align: right;\">  batch_size</th><th style=\"text-align: right;\">  dropout_2</th><th style=\"text-align: right;\">        lr</th><th style=\"text-align: right;\">  lstm_1_units</th><th style=\"text-align: right;\">  lstm_2_units</th><th>selected_features                                                                                                                          </th><th style=\"text-align: right;\">  iter</th><th style=\"text-align: right;\">  total time (s)</th></tr>\n",
       "</thead>\n",
       "<tbody>\n",
       "<tr><td>train_func_00000</td><td>TERMINATED</td><td>     </td><td style=\"text-align: right;\">          64</td><td style=\"text-align: right;\">   0.457235</td><td style=\"text-align: right;\">0.00696096</td><td style=\"text-align: right;\">            64</td><td style=\"text-align: right;\">            16</td><td>[&quot;MINUTE(timestamp)&quot;, &quot;WEEKOFYEAR(timestamp)&quot;, &quot;IS_AWAKE(timestamp)&quot;]                                                                      </td><td style=\"text-align: right;\">    10</td><td style=\"text-align: right;\">         62.4136</td></tr>\n",
       "<tr><td>train_func_00001</td><td>TERMINATED</td><td>     </td><td style=\"text-align: right;\">          64</td><td style=\"text-align: right;\">   0.431763</td><td style=\"text-align: right;\">0.0076674 </td><td style=\"text-align: right;\">           128</td><td style=\"text-align: right;\">            32</td><td>[&quot;HOUR(timestamp)&quot;, &quot;MONTH(timestamp)&quot;, &quot;IS_BUSY_HOURS(timestamp)&quot;, &quot;IS_AWAKE(timestamp)&quot;, &quot;DAYOFYEAR(timestamp)&quot;, &quot;WEEKOFYEAR(timestamp)&quot;]</td><td style=\"text-align: right;\">    10</td><td style=\"text-align: right;\">         64.1751</td></tr>\n",
       "<tr><td>train_func_00002</td><td>TERMINATED</td><td>     </td><td style=\"text-align: right;\">          64</td><td style=\"text-align: right;\">   0.244117</td><td style=\"text-align: right;\">0.00330326</td><td style=\"text-align: right;\">           128</td><td style=\"text-align: right;\">            64</td><td>[&quot;DAYOFYEAR(timestamp)&quot;, &quot;WEEKDAY(timestamp)&quot;, &quot;WEEKOFYEAR(timestamp)&quot;, &quot;DAY(timestamp)&quot;, &quot;MONTH(timestamp)&quot;]                              </td><td style=\"text-align: right;\">    10</td><td style=\"text-align: right;\">         54.4284</td></tr>\n",
       "</tbody>\n",
       "</table><br><br>"
      ],
      "text/plain": [
       "<IPython.core.display.HTML object>"
      ]
     },
     "metadata": {},
     "output_type": "display_data"
    },
    {
     "name": "stdout",
     "output_type": "stream",
     "text": [
      "best log dir is  /home/ding/zoo_automl_logs/nyc_taxi_1next/train_func_2_batch_size=64,dropout_2=0.24412,lr=0.0033033,lstm_1_units=128,lstm_2_units=64,selected_features=[\"DAYOFYEAR(timestamp_2020-12-04_14-24-26u0av5hry\n",
      "The best configurations are:\n",
      "selected_features : [\"DAYOFYEAR(timestamp)\", \"WEEKDAY(timestamp)\", \"WEEKOFYEAR(timestamp)\", \"DAY(timestamp)\", \"MONTH(timestamp)\"]\n",
      "model : LSTM\n",
      "lstm_1_units : 128\n",
      "dropout_1 : 0.2\n",
      "lstm_2_units : 64\n",
      "dropout_2 : 0.24411671416823147\n",
      "lr : 0.003303258925370717\n",
      "batch_size : 64\n",
      "epochs : 2\n",
      "past_seq_len : 5\n",
      "WARNING:tensorflow:From /home/ding/anaconda3/envs/conda_py36/lib/python3.6/site-packages/tensorflow_core/python/ops/resource_variable_ops.py:1630: calling BaseResourceVariable.__init__ (from tensorflow.python.ops.resource_variable_ops) with constraint is deprecated and will be removed in a future version.\n",
      "Instructions for updating:\n",
      "If using Keras pass *_constraint arguments to layers.\n",
      "WARNING:tensorflow:OMP_NUM_THREADS is no longer used by the default Keras config. To configure the number of threads, use tf.config.threading APIs.\n",
      "Training completed.\n",
      "CPU times: user 3.64 s, sys: 489 ms, total: 4.13 s\n",
      "Wall time: 2min 1s\n"
     ]
    }
   ],
   "source": [
    "%%time\n",
    "from zoo.automl.config.recipe import LSTMGridRandomRecipe\n",
    "# fit train_df and validate with val_df, return the best trial as pipeline.\n",
    "# the default recipe is SmokeRecipe,which runs one epoch and one iteration with only 1 random sample.\n",
    "# you can change recipe by define `recipe` in `fit`. The recipes you can choose are SmokeRecipe, RandomRecipe, LSTMGridRandomRecipe, GridRandomRecipe and BayesRecipe.\n",
    "look_back_single = 5\n",
    "pipeline = tsp.fit(train_df,\n",
    "                   validation_df=val_df,\n",
    "                   metric=\"mse\",\n",
    "                   recipe=LSTMGridRandomRecipe(\n",
    "                              num_rand_samples=1,\n",
    "                              epochs=2,\n",
    "                              look_back=look_back_single, \n",
    "                              batch_size=[64]))\n",
    "print(\"Training completed.\")"
   ]
  },
  {
   "cell_type": "markdown",
   "metadata": {},
   "source": [
    "We provided a leaderboard visualization tool based on tensorboard. You can install tensorboard and run the following code to view the hparams tag in tensorboard. <br>\n",
    "`logs_dir` is the log directory you set for your predictor(i.e. TimeSequencePredictor), in this case \"/home/`username`/zoo_automl_logs\", where `username` is your login username. `job_name` is your predictor name, which in this case is \"nyc_taxi_1next\". A typical interface is shown below"
   ]
  },
  {
   "cell_type": "code",
   "execution_count": 26,
   "metadata": {},
   "outputs": [
    {
     "name": "stdout",
     "output_type": "stream",
     "text": [
      "The tensorboard extension is already loaded. To reload it, use:\n",
      "  %reload_ext tensorboard\n"
     ]
    },
    {
     "data": {
      "text/html": [
       "\n",
       "      <iframe id=\"tensorboard-frame-e43620eca9a4c0d2\" width=\"100%\" height=\"800\" frameborder=\"0\">\n",
       "      </iframe>\n",
       "      <script>\n",
       "        (function() {\n",
       "          const frame = document.getElementById(\"tensorboard-frame-e43620eca9a4c0d2\");\n",
       "          const url = new URL(\"/\", window.location);\n",
       "          url.port = 6007;\n",
       "          frame.src = url;\n",
       "        })();\n",
       "      </script>\n",
       "  "
      ],
      "text/plain": [
       "<IPython.core.display.HTML object>"
      ]
     },
     "metadata": {},
     "output_type": "display_data"
    }
   ],
   "source": [
    "%load_ext tensorboard\n",
    "%tensorboard --logdir /home/ding/zoo_automl_logs/nyc_taxi_1next_leaderboard"
   ]
  },
  {
   "cell_type": "markdown",
   "metadata": {},
   "source": [
    "![jupyter](./vis_demo.PNG)"
   ]
  },
  {
   "cell_type": "markdown",
   "metadata": {},
   "source": [
    "## 3. Test"
   ]
  },
  {
   "cell_type": "code",
   "execution_count": 19,
   "metadata": {},
   "outputs": [],
   "source": [
    "# predict test_df with the best trial\n",
    "pred_df = pipeline.predict(test_df)"
   ]
  },
  {
   "cell_type": "code",
   "execution_count": 20,
   "metadata": {},
   "outputs": [
    {
     "data": {
      "text/html": [
       "<div>\n",
       "<style scoped>\n",
       "    .dataframe tbody tr th:only-of-type {\n",
       "        vertical-align: middle;\n",
       "    }\n",
       "\n",
       "    .dataframe tbody tr th {\n",
       "        vertical-align: top;\n",
       "    }\n",
       "\n",
       "    .dataframe thead th {\n",
       "        text-align: right;\n",
       "    }\n",
       "</style>\n",
       "<table border=\"1\" class=\"dataframe\">\n",
       "  <thead>\n",
       "    <tr style=\"text-align: right;\">\n",
       "      <th></th>\n",
       "      <th>timestamp</th>\n",
       "      <th>value</th>\n",
       "    </tr>\n",
       "  </thead>\n",
       "  <tbody>\n",
       "    <tr>\n",
       "      <th>0</th>\n",
       "      <td>2015-01-10 14:30:00</td>\n",
       "      <td>19995.542969</td>\n",
       "    </tr>\n",
       "    <tr>\n",
       "      <th>1</th>\n",
       "      <td>2015-01-10 15:00:00</td>\n",
       "      <td>21168.564453</td>\n",
       "    </tr>\n",
       "    <tr>\n",
       "      <th>2</th>\n",
       "      <td>2015-01-10 15:30:00</td>\n",
       "      <td>22179.460938</td>\n",
       "    </tr>\n",
       "    <tr>\n",
       "      <th>3</th>\n",
       "      <td>2015-01-10 16:00:00</td>\n",
       "      <td>22912.550781</td>\n",
       "    </tr>\n",
       "    <tr>\n",
       "      <th>4</th>\n",
       "      <td>2015-01-10 16:30:00</td>\n",
       "      <td>21569.515625</td>\n",
       "    </tr>\n",
       "  </tbody>\n",
       "</table>\n",
       "</div>"
      ],
      "text/plain": [
       "            timestamp         value\n",
       "0 2015-01-10 14:30:00  19995.542969\n",
       "1 2015-01-10 15:00:00  21168.564453\n",
       "2 2015-01-10 15:30:00  22179.460938\n",
       "3 2015-01-10 16:00:00  22912.550781\n",
       "4 2015-01-10 16:30:00  21569.515625"
      ]
     },
     "execution_count": 20,
     "metadata": {},
     "output_type": "execute_result"
    }
   ],
   "source": [
    "pred_df.head(5)"
   ]
  },
  {
   "cell_type": "code",
   "execution_count": 21,
   "metadata": {},
   "outputs": [
    {
     "data": {
      "text/html": [
       "<div>\n",
       "<style scoped>\n",
       "    .dataframe tbody tr th:only-of-type {\n",
       "        vertical-align: middle;\n",
       "    }\n",
       "\n",
       "    .dataframe tbody tr th {\n",
       "        vertical-align: top;\n",
       "    }\n",
       "\n",
       "    .dataframe thead th {\n",
       "        text-align: right;\n",
       "    }\n",
       "</style>\n",
       "<table border=\"1\" class=\"dataframe\">\n",
       "  <thead>\n",
       "    <tr style=\"text-align: right;\">\n",
       "      <th></th>\n",
       "      <th>timestamp</th>\n",
       "      <th>value</th>\n",
       "    </tr>\n",
       "  </thead>\n",
       "  <tbody>\n",
       "    <tr>\n",
       "      <th>5</th>\n",
       "      <td>2015-01-10 14:30:00</td>\n",
       "      <td>22371</td>\n",
       "    </tr>\n",
       "    <tr>\n",
       "      <th>6</th>\n",
       "      <td>2015-01-10 15:00:00</td>\n",
       "      <td>23119</td>\n",
       "    </tr>\n",
       "    <tr>\n",
       "      <th>7</th>\n",
       "      <td>2015-01-10 15:30:00</td>\n",
       "      <td>23941</td>\n",
       "    </tr>\n",
       "    <tr>\n",
       "      <th>8</th>\n",
       "      <td>2015-01-10 16:00:00</td>\n",
       "      <td>22728</td>\n",
       "    </tr>\n",
       "    <tr>\n",
       "      <th>9</th>\n",
       "      <td>2015-01-10 16:30:00</td>\n",
       "      <td>20126</td>\n",
       "    </tr>\n",
       "  </tbody>\n",
       "</table>\n",
       "</div>"
      ],
      "text/plain": [
       "            timestamp  value\n",
       "5 2015-01-10 14:30:00  22371\n",
       "6 2015-01-10 15:00:00  23119\n",
       "7 2015-01-10 15:30:00  23941\n",
       "8 2015-01-10 16:00:00  22728\n",
       "9 2015-01-10 16:30:00  20126"
      ]
     },
     "execution_count": 21,
     "metadata": {},
     "output_type": "execute_result"
    }
   ],
   "source": [
    "# prediction value start from look_back_single\n",
    "test_df[look_back_single:look_back_single+5]"
   ]
  },
  {
   "cell_type": "code",
   "execution_count": 23,
   "metadata": {
    "scrolled": true
   },
   "outputs": [
    {
     "data": {
      "image/png": "[encoded data removed]",
      "text/plain": [
       "<Figure size 864x360 with 1 Axes>"
      ]
     },
     "metadata": {
      "needs_background": "light"
     },
     "output_type": "display_data"
    }
   ],
   "source": [
    "# plot the predicted values and actual values\n",
    "plot_result(test_df, pred_df,past_seq_len=look_back_single)"
   ]
  },
  {
   "cell_type": "code",
   "execution_count": 24,
   "metadata": {},
   "outputs": [
    {
     "name": "stdout",
     "output_type": "stream",
     "text": [
      "Evaluate: the mean square error is 1651477.9621561717\n",
      "Evaluate: the smape value is 6.284095115035701\n"
     ]
    }
   ],
   "source": [
    "# evaluate test_df\n",
    "mse, smape = pipeline.evaluate(test_df, metrics=[\"mse\", \"smape\"])\n",
    "print(\"Evaluate: the mean square error is\", mse)\n",
    "print(\"Evaluate: the smape value is\", smape)"
   ]
  },
  {
   "cell_type": "markdown",
   "metadata": {},
   "source": [
    "## 4. save and restore"
   ]
  },
  {
   "cell_type": "markdown",
   "metadata": {},
   "source": [
    "We provide save and restore interface to save the pipeline with the best trial for easily rebuilding."
   ]
  },
  {
   "cell_type": "code",
   "execution_count": null,
   "metadata": {},
   "outputs": [],
   "source": [
    "# save the pipeline with best trial\n",
    "pipeline.save(\"/tmp/saved_pipeline/my.ppl\")"
   ]
  },
  {
   "cell_type": "code",
   "execution_count": null,
   "metadata": {},
   "outputs": [],
   "source": [
    "from zoo.automl.pipeline.time_sequence import load_ts_pipeline\n",
    "new_pipeline = load_ts_pipeline(\"/tmp/saved_pipeline/my.ppl\")"
   ]
  },
  {
   "cell_type": "code",
   "execution_count": null,
   "metadata": {},
   "outputs": [],
   "source": [
    "# you can do predict and evaluate again\n",
    "# we use test_df as input in order to compare results before and after restoration \n",
    "new_pred = new_pipeline.predict(test_df)"
   ]
  },
  {
   "cell_type": "code",
   "execution_count": null,
   "metadata": {},
   "outputs": [],
   "source": [
    "new_pred.head(5)"
   ]
  },
  {
   "cell_type": "code",
   "execution_count": null,
   "metadata": {},
   "outputs": [],
   "source": [
    "# evaluate test_df\n",
    "mse, smape = new_pipeline.evaluate(test_df, metrics=[\"mse\", \"smape\"])\n",
    "print(\"Evaluate: the mean square error is\", mse)\n",
    "print(\"Evaluate: the smape value is\", smape)"
   ]
  },
  {
   "cell_type": "markdown",
   "metadata": {},
   "source": [
    "## 5. continue training"
   ]
  },
  {
   "cell_type": "markdown",
   "metadata": {},
   "source": [
    "We support continue training with incremental data using the best configuration searched and the trained model."
   ]
  },
  {
   "cell_type": "code",
   "execution_count": null,
   "metadata": {},
   "outputs": [],
   "source": [
    "# review the initialization infomation if needed\n",
    "new_pipeline.describe()"
   ]
  },
  {
   "cell_type": "code",
   "execution_count": null,
   "metadata": {},
   "outputs": [],
   "source": [
    "# Use val_df as incremental data\n",
    "new_pipeline.fit(val_df,epoch_num=5)"
   ]
  },
  {
   "cell_type": "code",
   "execution_count": null,
   "metadata": {},
   "outputs": [],
   "source": [
    "# predict results of test_df\n",
    "new_pred_df = new_pipeline.predict(test_df)\n",
    "plot_result(test_df, new_pred_df,past_seq_len = look_back_single)"
   ]
  },
  {
   "cell_type": "code",
   "execution_count": null,
   "metadata": {},
   "outputs": [],
   "source": [
    "# evaluate test_df\n",
    "mse, smape = new_pipeline.evaluate(test_df, metrics=[\"mse\", \"smape\"])\n",
    "print(\"Evaluate: the mean square error is\", mse)\n",
    "print(\"Evaluate: the smape value is\", smape)"
   ]
  },
  {
   "cell_type": "markdown",
   "metadata": {},
   "source": [
    "## 6. multi step forecasting "
   ]
  },
  {
   "cell_type": "markdown",
   "metadata": {},
   "source": [
    "You can do multi step forecasting by simply changing the `future_seq_len` option while creating a new `TimeSequencePredictor` object."
   ]
  },
  {
   "cell_type": "code",
   "execution_count": null,
   "metadata": {},
   "outputs": [],
   "source": [
    "# build time sequence predictor\n",
    "from zoo.automl.regression.time_sequence_predictor import *\n",
    "\n",
    "# change future_seq_len into the step you want to forcast.\n",
    "tsp = TimeSequencePredictor(name=\"nyc_taxi_10next\",\n",
    "                            logs_dir=\"~/zoo_automl_logs\",\n",
    "                            future_seq_len=5,\n",
    "                            dt_col=\"timestamp\",\n",
    "                            target_col=\"value\",\n",
    "                            extra_features_col=None)"
   ]
  },
  {
   "cell_type": "code",
   "execution_count": null,
   "metadata": {},
   "outputs": [],
   "source": [
    "%%time\n",
    "# you can specify the look back sequence length with a single number or a range of (min_len, max_len) in recipe.\n",
    "look_back_multi = 10\n",
    "pipeline = tsp.fit(train_df,\n",
    "                   validation_df=val_df,\n",
    "                   metric=\"mse\",\n",
    "                   recipe=LSTMGridRandomRecipe(\n",
    "                              num_rand_samples=3,\n",
    "                              epochs=2,\n",
    "                              look_back=10,\n",
    "                              training_iteration=look_back_multi,\n",
    "                              batch_size=[64]))\n",
    "print(\"Training completed.\")"
   ]
  },
  {
   "cell_type": "code",
   "execution_count": null,
   "metadata": {},
   "outputs": [],
   "source": [
    "# test\n",
    "# predict test_df with the best trial\n",
    "pred_df = pipeline.predict(test_df)"
   ]
  },
  {
   "cell_type": "code",
   "execution_count": null,
   "metadata": {},
   "outputs": [],
   "source": [
    "pred_df.head(5)"
   ]
  },
  {
   "cell_type": "code",
   "execution_count": null,
   "metadata": {},
   "outputs": [],
   "source": [
    "# plot multi step predicted values and actual values\n",
    "# plot at most five step predict values for better view\n",
    "plot_less_five_step_result(test_df, pred_df,past_seq_len=look_back_multi)"
   ]
  },
  {
   "cell_type": "code",
   "execution_count": null,
   "metadata": {},
   "outputs": [],
   "source": [
    "# plot only the first and the last step predict values and actual values\n",
    "plot_first_last_step_result(test_df, pred_df, past_seq_len=look_back_multi)"
   ]
  },
  {
   "cell_type": "code",
   "execution_count": null,
   "metadata": {},
   "outputs": [],
   "source": [
    "# evaluate test_df\n",
    "mse, smape = pipeline.evaluate(test_df, metrics=[\"mse\", \"smape\"])\n",
    "print(\"Evaluate: the mean square error is\", mse)\n",
    "print(\"Evaluate: the smape value is\", smape)"
   ]
  },
  {
   "cell_type": "code",
   "execution_count": null,
   "metadata": {},
   "outputs": [],
   "source": [
    "ray_ctx.stop()"
   ]
  },
  {
   "cell_type": "code",
   "execution_count": null,
   "metadata": {},
   "outputs": [],
   "source": []
  }
 ],
 "metadata": {
  "kernelspec": {
   "display_name": "Python 3",
   "language": "python",
   "name": "python3"
  },
  "language_info": {
   "codemirror_mode": {
    "name": "ipython",
    "version": 3
   },
   "file_extension": ".py",
   "mimetype": "text/x-python",
   "name": "python",
   "nbconvert_exporter": "python",
   "pygments_lexer": "ipython3",
   "version": "3.6.9"
  }
 },
 "nbformat": 4,
 "nbformat_minor": 2
}
